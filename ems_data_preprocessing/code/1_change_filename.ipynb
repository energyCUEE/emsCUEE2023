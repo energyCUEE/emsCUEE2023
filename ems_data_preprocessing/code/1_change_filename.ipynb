{
 "cells": [
  {
   "cell_type": "markdown",
   "metadata": {},
   "source": [
    "# Change File Name\n",
    "\n",
    "Change file name of data received from meter \n",
    "\n",
    "File name of Raw data format: \n",
    "\n",
    "    - load : e.g. load2311.csv => load_gwz_20241123\n",
    "             e.g. load211.csv => load_gwz_20241102\n",
    "    \n",
    "    - pv : e.g. PV1104.csv => pv_8kW_20240411\n",
    "           e.g. PV204.csv  => pv_8kW_20240402\n",
    "\n",
    "The proper format is\n",
    "\n",
    "### 'Type_SpecificFeature_YYYYMMDD.csv'"
   ]
  },
  {
   "cell_type": "code",
   "execution_count": 1,
   "metadata": {},
   "outputs": [],
   "source": [
    "import os\n",
    "from datetime import datetime"
   ]
  },
  {
   "cell_type": "markdown",
   "metadata": {},
   "source": [
    "## Change file name: pv data"
   ]
  },
  {
   "cell_type": "code",
   "execution_count": 6,
   "metadata": {},
   "outputs": [
    {
     "name": "stdout",
     "output_type": "stream",
     "text": [
      "Renamed PV1802.csv to pv_8kW_20240218.csv\n",
      "Renamed PV2502.csv to pv_8kW_20240225.csv\n",
      "Renamed PV902.csv to pv_8kW_20240209.csv\n",
      "Renamed PV2702.csv to pv_8kW_20240227.csv\n",
      "Renamed PV2302.csv to pv_8kW_20240223.csv\n",
      "Renamed PV2102.csv to pv_8kW_20240221.csv\n",
      "Renamed PV2602.csv to pv_8kW_20240226.csv\n",
      "Renamed PV802.csv to pv_8kW_20240208.csv\n",
      "Renamed PV2402.csv to pv_8kW_20240224.csv\n",
      "Renamed PV1902.csv to pv_8kW_20240219.csv\n",
      "Renamed PV2002.csv to pv_8kW_20240220.csv\n",
      "Renamed PV2202.csv to pv_8kW_20240222.csv\n",
      "Renamed PV202.csv to pv_8kW_20240202.csv\n",
      "Renamed PV1302.csv to pv_8kW_20240213.csv\n",
      "Renamed PV1102.csv to pv_8kW_20240211.csv\n",
      "Renamed PV1502.csv to pv_8kW_20240215.csv\n",
      "Renamed PV402.csv to pv_8kW_20240204.csv\n",
      "Renamed PV2802.csv to pv_8kW_20240228.csv\n",
      "Renamed PV602.csv to pv_8kW_20240206.csv\n",
      "Renamed PV1702.csv to pv_8kW_20240217.csv\n",
      "Renamed PV102.csv to pv_8kW_20240201.csv\n",
      "Renamed PV1002.csv to pv_8kW_20240210.csv\n",
      "Renamed PV1202.csv to pv_8kW_20240212.csv\n",
      "Renamed PV302.csv to pv_8kW_20240203.csv\n",
      "Renamed PV1602.csv to pv_8kW_20240216.csv\n",
      "Renamed PV702.csv to pv_8kW_20240207.csv\n",
      "Renamed PV2902.csv to pv_8kW_20240229.csv\n",
      "Renamed PV502.csv to pv_8kW_20240205.csv\n",
      "Renamed PV1402.csv to pv_8kW_20240214.csv\n"
     ]
    }
   ],
   "source": [
    "# Replace this with the actual path to your folder\n",
    "# Here: 'rename_filename' is the folder containing the files to be renamed (just duplicate folder from 'actual_data_received_from_meter').\n",
    "folder_path = \"/Users/nattapongkongkaew/Desktop/input_data/rename_filename/data_pv/February2024\"  \n",
    "\n",
    "installation_capacity = '8kW'  # (str) Replace this with the actual installation capacity of the PV system\n",
    "\n",
    "# Assuming numeric part represents day and month (e.g., 907 -> 2023-09-07)\n",
    "year = 2024  # Get the year to resample (returns: 2024 (int))\n",
    "        \n",
    "for filename in os.listdir(folder_path):\n",
    "    if filename.startswith(\"PV\") and filename.endswith(\".csv\"):\n",
    "        numeric_part = filename[2:-4]  # Extract the numeric part (i.e., 907 from PV907.csv)\n",
    "        \n",
    "        \n",
    "        #  (e.g. 204 -> day = 02, month = 04)\n",
    "        if len(numeric_part) == 3:\n",
    "            day = int(numeric_part[:1])\n",
    "            month = int(numeric_part[1:])\n",
    "        \n",
    "        #  (e.g. 1104 -> day = 11, month = 04)\n",
    "        elif len(numeric_part) == 4:\n",
    "            day = int(numeric_part[:2])\n",
    "            month = int(numeric_part[2:])\n",
    "        \n",
    "        # Convert to \"YYYYMMDD\" format\n",
    "        new_date = datetime(year, month, day).strftime(\"%Y%m%d\")  \n",
    "        new_filename = f\"pv_{installation_capacity}_{new_date}.csv\"\n",
    "        \n",
    "        # Replace the old filename with the new filename\n",
    "        new_filepath = os.path.join(folder_path, new_filename)\n",
    "        old_filepath = os.path.join(folder_path, filename)\n",
    "        os.rename(old_filepath, new_filepath)\n",
    "        print(f\"Renamed {filename} to {new_filename}\")\n",
    "        "
   ]
  },
  {
   "cell_type": "markdown",
   "metadata": {},
   "source": [
    "## Change file name: load data"
   ]
  },
  {
   "cell_type": "code",
   "execution_count": 1,
   "metadata": {},
   "outputs": [
    {
     "name": "stdout",
     "output_type": "stream",
     "text": [
      "Renamed load2102.csv to load_gwz_20240221.csv\n",
      "Renamed load2302.csv to load_gwz_20240223.csv\n",
      "Renamed load2702.csv to load_gwz_20240227.csv\n",
      "Renamed load1802.csv to load_gwz_20240218.csv\n",
      "Renamed load902.csv to load_gwz_20240209.csv\n",
      "Renamed load2502.csv to load_gwz_20240225.csv\n",
      "Renamed load2202.csv to load_gwz_20240222.csv\n",
      "Renamed load2002.csv to load_gwz_20240220.csv\n",
      "Renamed load802.csv to load_gwz_20240208.csv\n",
      "Renamed load2402.csv to load_gwz_20240224.csv\n",
      "Renamed load1902.csv to load_gwz_20240219.csv\n",
      "Renamed load2602.csv to load_gwz_20240226.csv\n",
      "Renamed load602.csv to load_gwz_20240206.csv\n",
      "Renamed load1702.csv to load_gwz_20240217.csv\n",
      "Renamed load1502.csv to load_gwz_20240215.csv\n",
      "Renamed load2802.csv to load_gwz_20240228.csv\n",
      "Renamed load402.csv to load_gwz_20240204.csv\n",
      "Renamed load1102.csv to load_gwz_20240211.csv\n",
      "Renamed load202.csv to load_gwz_20240202.csv\n",
      "Renamed load1302.csv to load_gwz_20240213.csv\n",
      "Renamed load2902.csv to load_gwz_20240229.csv\n",
      "Renamed load502.csv to load_gwz_20240205.csv\n",
      "Renamed load1602.csv to load_gwz_20240216.csv\n",
      "Renamed load702.csv to load_gwz_20240207.csv\n",
      "Renamed load1202.csv to load_gwz_20240212.csv\n",
      "Renamed load302.csv to load_gwz_20240203.csv\n",
      "Renamed load102.csv to load_gwz_20240201.csv\n",
      "Renamed load1002.csv to load_gwz_20240210.csv\n"
     ]
    }
   ],
   "source": [
    " # Replace this with the actual path to your folder\n",
    "folder_path = \"/Users/nattapongkongkaew/Desktop/input_data/rename_filename/data_load/February2024\" \n",
    "\n",
    "location = 'gwz'  # (str) Replace this with the actual location of the load data\n",
    "\n",
    "# Assuming numeric part represents day and month (e.g., 211 -> 2023-11-02)\n",
    "year = 2024 # Get the year to resample (returns: 2024 (int))\n",
    "        \n",
    "for filename in os.listdir(folder_path):\n",
    "    if filename.startswith(\"load\") and filename.endswith(\".csv\"):\n",
    "        numeric_part = filename[4:-4]  # Extract the numeric part (i.e., 211 from load211.csv)\n",
    "        \n",
    "        #  (e.g. 211 -> day = 2, month = 11)\n",
    "        if len(numeric_part) == 3:\n",
    "            day = int(numeric_part[:1])\n",
    "            month = int(numeric_part[1:])\n",
    "            \n",
    "        #  (e.g. 2311 -> day = 11, month = 23)\n",
    "        elif len(numeric_part) == 4:\n",
    "            day = int(numeric_part[:2])\n",
    "            month = int(numeric_part[2:])\n",
    "        \n",
    "        # Convert to \"YYYYMMDD\" format\n",
    "        new_date = datetime(year, month, day).strftime(\"%Y%m%d\")  \n",
    "        new_filename = f\"load_{location}_{new_date}.csv\"\n",
    "        \n",
    "        # Replace the old filename with the new filename\n",
    "        new_filepath = os.path.join(folder_path, new_filename)\n",
    "        old_filepath = os.path.join(folder_path, filename)\n",
    "        os.rename(old_filepath, new_filepath)\n",
    "        print(f\"Renamed {filename} to {new_filename}\")\n",
    "\n",
    "        "
   ]
  },
  {
   "cell_type": "code",
   "execution_count": null,
   "metadata": {},
   "outputs": [],
   "source": []
  }
 ],
 "metadata": {
  "kernelspec": {
   "display_name": "Python 3",
   "language": "python",
   "name": "python3"
  },
  "language_info": {
   "codemirror_mode": {
    "name": "ipython",
    "version": 3
   },
   "file_extension": ".py",
   "mimetype": "text/x-python",
   "name": "python",
   "nbconvert_exporter": "python",
   "pygments_lexer": "ipython3",
   "version": "3.10.13"
  },
  "orig_nbformat": 4
 },
 "nbformat": 4,
 "nbformat_minor": 2
}
