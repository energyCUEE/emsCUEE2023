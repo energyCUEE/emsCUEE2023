{
 "cells": [
  {
   "cell_type": "markdown",
   "metadata": {},
   "source": [
    "# This file is used to create folders in the specific directory."
   ]
  },
  {
   "cell_type": "code",
   "execution_count": null,
   "metadata": {},
   "outputs": [],
   "source": [
    "import os\n",
    "\n",
    "def create_folders(folder_name, base_directory):\n",
    "    folder_path = os.path.join(base_directory, folder_name)\n",
    "    os.makedirs(folder_path)\n",
    "    print(f\"Created folder: {folder_name}\")\n",
    "\n",
    "# Vary system size and EMS setting\n",
    "# PV size: 50-70 kW and A single battery size: 125-333 kWh\n",
    "pv_size_list = [pv for pv in range(50, 71, 1)]\n",
    "batt_size_list = [round(batt*(100/60)/2) for batt in range(150, 405, 5)]\n",
    "EMS_list = ['energy_cost', 'profit', 'RE100']\n",
    "for ems in EMS_list:\n",
    "    for pv_size in pv_size_list:\n",
    "        for batt_size in batt_size_list:\n",
    "            folder_name = f\"pv{pv_size}kW_batt{batt_size}kWh\"\n",
    "            base_directory = f\"/Users/nattapongkongkaew/Desktop/EMS setting in PC/solution/{ems}\"\n",
    "            create_folders(folder_name, base_directory)\n",
    "        "
   ]
  }
 ],
 "metadata": {
  "kernelspec": {
   "display_name": "env",
   "language": "python",
   "name": "python3"
  },
  "language_info": {
   "codemirror_mode": {
    "name": "ipython",
    "version": 3
   },
   "file_extension": ".py",
   "mimetype": "text/x-python",
   "name": "python",
   "nbconvert_exporter": "python",
   "pygments_lexer": "ipython3",
   "version": "3.9.6"
  }
 },
 "nbformat": 4,
 "nbformat_minor": 2
}
